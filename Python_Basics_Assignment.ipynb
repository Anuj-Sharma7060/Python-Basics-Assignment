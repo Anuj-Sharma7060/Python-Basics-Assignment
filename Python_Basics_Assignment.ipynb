{
  "nbformat": 4,
  "nbformat_minor": 0,
  "metadata": {
    "colab": {
      "provenance": []
    },
    "kernelspec": {
      "name": "python3",
      "display_name": "Python 3"
    },
    "language_info": {
      "name": "python"
    }
  },
  "cells": [
    {
      "cell_type": "markdown",
      "source": [
        "# **Python Basics Assignment**\n",
        "\n",
        "1. What is Python, and why is it popular ?\n",
        "  - Python is a high-level, interpreted programming language known for its simplicity, readability, and versatility. Created by Guido van Rossum and first released in 1991, Python emphasizes code readability with its clean and easy-to-understand syntax, which often feels close to plain English.\n",
        "\n",
        "    Python is popular because of\n",
        "    - Widelyused in the Industry\n",
        "    - Data Industries\n",
        "    - A lot of libraries\n",
        "    - Easy to learn and use\n",
        "    - Versatile and multi-purpose\n",
        "\n",
        "2. What is an interpreter in Python ?\n",
        "  - In Python, an interpreter is the program that executes your Python code line by line, converting it into instructions that your computer’s processor can understand.\n",
        "\n",
        "3. What are pre-defined keywords in Python ?\n",
        "  - In Python, pre-defined keywords are words that hold a special meaning and have specific pourpose.\n",
        "  there are some words are - true, false, none, and, as, continue, del, def, elif, else, for, while, etc.\n",
        "\n",
        "4. Can keywords be used as variable names ?\n",
        "  - No — keywords in Python cannot be used as variable names.\n",
        "\n",
        "5. What is mutability in Python ?\n",
        "  - In Python, mutability refers to whether or not an object’s value can be changed after it is created.\n",
        "\n",
        "6. Why are lists mutable, but tuples are immutable ?\n",
        "  - ChatGPT said:\n",
        "Lists are mutable and tuples are immutable because of how Python designs and stores them in memory, and the intended use of each type.\n",
        "\n",
        "7. What is the difference between “==” and “is” operators in Python ?\n",
        "  - In Python, \"==\" and \"is\" may look similar but they check different things:\n",
        "    ### i. == (Equality Operator)\n",
        "    - Checks whether values of two objects are the same.\n",
        "    - Compares the contents of the objects, not their identity.\n",
        "\n",
        "    ### ii. is (Identity Operator)\n",
        "    - Checks whether two variables refer to the same object in memory.\n",
        "    - Returns True only if both variables point to the exact same memory location.\n",
        "  \n",
        "8. What are logical operators in Python ?\n",
        "  - In Python, logical operators are used to combine or modify boolean expressions (expressions that evaluate to True or False).\n",
        "  There are three logical operators are- AND, OR, NOT\n",
        "\n",
        "9. What is type casting in Python ?\n",
        "  - In Python, type casting means converting a value from one data type to another. It’s used when you need your data in a different format to perform specific operations.\n",
        "  there are 2 types of casting are-\n",
        "      - Implicit type casting\n",
        "      - Explicit type casting\n",
        "\n",
        "10. What is the difference between implicit and explicit type casting ?\n",
        "  - The difference between implicit and explicit type casting in Python are\n",
        "      #### i. Implicite type casting\n",
        "      - Who does it? → Python automatically.\n",
        "      - When? → When there’s no risk of losing data and types are compatible.\n",
        "      - Purpose → To make operations between different data types possible without errors.\n",
        "      \n",
        "      #### ii. Explicite type casting\n",
        "      - Who does it? → You, the programmer.\n",
        "      - When? → When you manually change a value’s type using casting functions.\n",
        "      - Purpose → To control data types and handle situations where Python won’t convert automatically.\n",
        "\n",
        "11. What is the purpose of conditional statements in Python ?\n",
        "  - The purpose of conditional statements in Python is to let your program make decisions and execute different blocks of code based on whether certain conditions are True or False.\n",
        "\n",
        "12.  How does the elif statement work ?\n",
        "  - The elif statement in Python means \"else if\", and it’s used when you want to check multiple conditions in sequence without nesting multiple if statements.\n",
        "\n",
        "13. What is the difference between for and while loops ?\n",
        "  - The difference between for and while loops in Python comes down to when you know how many times you want to repeat something vs. when you don’t.\n",
        "\n",
        "14. Describe a scenario where a while loop is more suitable than a for loop.\n",
        "  - A while loop is more suitable when you don’t know in advance how many times the loop will run — you just know you need to keep looping until a certain condition becomes false.\n",
        "    #### Scenario Example: User Login System\n",
        "    Imagine you’re building a login system where the user can keep trying until they enter the correct password.\n",
        "\n",
        "        - You can’t know how many attempts they’ll need.\n",
        "        - The loop should run until the correct password is entered.\n",
        "\n",
        "\n",
        "\n",
        "\n",
        "# Practical Questions\n",
        "\n",
        "1. Write a Python program to print \"Hello, World!\n",
        "\n",
        "\n"
      ],
      "metadata": {
        "id": "p8L0thfCvDHp"
      }
    },
    {
      "cell_type": "code",
      "source": [
        "print(\"Hello, World!\")"
      ],
      "metadata": {
        "colab": {
          "base_uri": "https://localhost:8080/"
        },
        "id": "XSfSC9g6OzJR",
        "outputId": "4489f450-a12c-477b-99a7-89329b71e097"
      },
      "execution_count": 8,
      "outputs": [
        {
          "output_type": "stream",
          "name": "stdout",
          "text": [
            "Hello, World!\n"
          ]
        }
      ]
    },
    {
      "cell_type": "markdown",
      "source": [
        "2. Write a Python program that displays your name and age"
      ],
      "metadata": {
        "id": "WYs4BlX0PBWk"
      }
    },
    {
      "cell_type": "code",
      "source": [
        "name = \"Anuj\"\n",
        "age = 21\n",
        "\n",
        "print(\"My name is\", name)\n",
        "print(\"I am\", age, \"years old\")"
      ],
      "metadata": {
        "colab": {
          "base_uri": "https://localhost:8080/"
        },
        "id": "WX20Qcs9PJaT",
        "outputId": "0f34cba8-15b5-4b8b-fb90-55aa5d0ee9db"
      },
      "execution_count": 9,
      "outputs": [
        {
          "output_type": "stream",
          "name": "stdout",
          "text": [
            "My name is Anuj\n",
            "I am 21 years old\n"
          ]
        }
      ]
    },
    {
      "cell_type": "markdown",
      "source": [
        "3. Write code to print all the pre-defined keywords in Python using the keyword library"
      ],
      "metadata": {
        "id": "FPRaQsr0Q1ok"
      }
    },
    {
      "cell_type": "code",
      "source": [
        "import keyword\n",
        "print(keyword.kwlist)"
      ],
      "metadata": {
        "colab": {
          "base_uri": "https://localhost:8080/"
        },
        "id": "N_azF3eoQcqS",
        "outputId": "d3903ef7-8f4b-4c2c-c7fd-737fe95149b3"
      },
      "execution_count": 11,
      "outputs": [
        {
          "output_type": "stream",
          "name": "stdout",
          "text": [
            "['False', 'None', 'True', 'and', 'as', 'assert', 'async', 'await', 'break', 'class', 'continue', 'def', 'del', 'elif', 'else', 'except', 'finally', 'for', 'from', 'global', 'if', 'import', 'in', 'is', 'lambda', 'nonlocal', 'not', 'or', 'pass', 'raise', 'return', 'try', 'while', 'with', 'yield']\n"
          ]
        }
      ]
    },
    {
      "cell_type": "markdown",
      "source": [
        "4. Write a program that checks if a given word is a Python keyword."
      ],
      "metadata": {
        "id": "EGJzQEGgRQvF"
      }
    },
    {
      "cell_type": "code",
      "source": [
        "import keyword\n",
        "\n",
        "word = input(\"Enter a word to check if it's a Python keyword: \")\n",
        "\n",
        "if word in keyword.kwlist:\n",
        "  print(f\"'{word}' is a Python keyword.\")\n",
        "else:\n",
        "  print(f\"'{word}' is not a Python keyword.\")"
      ],
      "metadata": {
        "colab": {
          "base_uri": "https://localhost:8080/"
        },
        "id": "9CyrK-eMRQZp",
        "outputId": "7cb8a34c-442b-4a97-eeb0-8fdec8f8876e"
      },
      "execution_count": 12,
      "outputs": [
        {
          "output_type": "stream",
          "name": "stdout",
          "text": [
            "Enter a word to check if it's a Python keyword: else\n",
            "'else' is a Python keyword.\n"
          ]
        }
      ]
    },
    {
      "cell_type": "markdown",
      "source": [
        " 5. Create a list and tuple in Python, and demonstrate how attempting to change an element works differently\n",
        "for each."
      ],
      "metadata": {
        "id": "8AVEHPhjR3Ub"
      }
    },
    {
      "cell_type": "code",
      "source": [
        "my_list = [1, 2, 3, 4]\n",
        "my_tuple = (1, 2, 3, 4)\n",
        "\n",
        "print(\"Original List:\", my_list)\n",
        "print(\"Original Tuple:\", my_tuple)\n",
        "\n",
        "print(\"\\nAttempting to change the second element of the list...\")\n",
        "my_list[1] = 10\n",
        "print(\"List after modification:\", my_list)\n",
        "\n",
        "print(\"\\nAttempting to change the second element of the tuple...\")\n",
        "try:\n",
        "  my_tuple[1] = 10\n",
        "except TypeError as e:\n",
        "  print(\"Error:\", e)\n",
        "\n",
        "print(\"Tuple remains unchanged:\", my_tuple)"
      ],
      "metadata": {
        "colab": {
          "base_uri": "https://localhost:8080/"
        },
        "id": "uYWpV75iSBIT",
        "outputId": "c6850aa0-a142-4610-fa3f-3f9dca6fa1d5"
      },
      "execution_count": 20,
      "outputs": [
        {
          "output_type": "stream",
          "name": "stdout",
          "text": [
            "Original List: [1, 2, 3, 4]\n",
            "Original Tuple: (1, 2, 3, 4)\n",
            "\n",
            "Attempting to change the second element of the list...\n",
            "List after modification: [1, 10, 3, 4]\n",
            "\n",
            "Attempting to change the second element of the tuple...\n",
            "Error: 'tuple' object does not support item assignment\n",
            "Tuple remains unchanged: (1, 2, 3, 4)\n"
          ]
        }
      ]
    },
    {
      "cell_type": "markdown",
      "source": [
        "6. Write a function to demonstrate the behavior of mutable and immutable arguments."
      ],
      "metadata": {
        "id": "dxqE5gP7SJu5"
      }
    },
    {
      "cell_type": "code",
      "source": [
        "def demonstrate_mutability(mutable_list, immutable_int):\n",
        "  \"\"\"\n",
        "  Demonstrates the behavior of mutable and immutable arguments in a function.\n",
        "  \"\"\"\n",
        "  print(f\"Inside function - Before modification:\")\n",
        "  print(f\"  Mutable list: {mutable_list}\")\n",
        "  print(f\"  Immutable integer: {immutable_int}\")\n",
        "\n",
        "  mutable_list.append(5)\n",
        "\n",
        "  immutable_int = immutable_int + 1\n",
        "\n",
        "  print(f\"Inside function - After modification:\")\n",
        "  print(f\"  Mutable list: {mutable_list}\")\n",
        "  print(f\"  Immutable integer: {immutable_int}\")\n",
        "\n",
        "my_list = [1, 2, 3, 4]\n",
        "my_int = 10\n",
        "\n",
        "print(\"Outside function - Before function call:\")\n",
        "print(f\"  Mutable list: {my_list}\")\n",
        "print(f\"  Immutable integer: {my_int}\")\n",
        "\n",
        "demonstrate_mutability(my_list, my_int)\n",
        "\n",
        "print(\"Outside function - After function call:\")\n",
        "print(f\"  Mutable list: {my_list}\")\n",
        "print(f\"  Immutable integer: {my_int}\")"
      ],
      "metadata": {
        "colab": {
          "base_uri": "https://localhost:8080/"
        },
        "id": "vhbuLIXcSuBo",
        "outputId": "7bf35dff-630d-47da-8793-d78a779b8c82"
      },
      "execution_count": 19,
      "outputs": [
        {
          "output_type": "stream",
          "name": "stdout",
          "text": [
            "Outside function - Before function call:\n",
            "  Mutable list: [1, 2, 3, 4]\n",
            "  Immutable integer: 10\n",
            "Inside function - Before modification:\n",
            "  Mutable list: [1, 2, 3, 4]\n",
            "  Immutable integer: 10\n",
            "Inside function - After modification:\n",
            "  Mutable list: [1, 2, 3, 4, 5]\n",
            "  Immutable integer: 11\n",
            "Outside function - After function call:\n",
            "  Mutable list: [1, 2, 3, 4, 5]\n",
            "  Immutable integer: 10\n"
          ]
        }
      ]
    },
    {
      "cell_type": "markdown",
      "source": [
        "7.  Write a program that performs basic arithmetic operations on two user-input numbers"
      ],
      "metadata": {
        "id": "8PeDY385SopM"
      }
    },
    {
      "cell_type": "code",
      "source": [
        "num1 = float(input(\"Enter first number: \"))\n",
        "num2 = float(input(\"Enter second number: \"))\n",
        "\n",
        "addition = num1 + num2\n",
        "subtraction = num1 - num2\n",
        "multiplication = num1 * num2\n",
        "division = num1 / num2 if num2 != 0 else \"Undefined (division by zero)\"\n",
        "\n",
        "print(\"\\nResults:\")\n",
        "print(\"Addition:\", addition)\n",
        "print(\"Subtraction:\", subtraction)\n",
        "print(\"Multiplication:\", multiplication)\n",
        "print(\"Division:\", division)"
      ],
      "metadata": {
        "colab": {
          "base_uri": "https://localhost:8080/"
        },
        "id": "V7OjYnobTR0L",
        "outputId": "73670321-46fd-4d73-de34-10c01ccaf19d"
      },
      "execution_count": 17,
      "outputs": [
        {
          "output_type": "stream",
          "name": "stdout",
          "text": [
            "Enter first number: 10\n",
            "Enter second number: 5\n",
            "\n",
            "Results:\n",
            "Addition: 15.0\n",
            "Subtraction: 5.0\n",
            "Multiplication: 50.0\n",
            "Division: 2.0\n"
          ]
        }
      ]
    },
    {
      "cell_type": "markdown",
      "source": [
        "8. Write a program to demonstrate the use of logical operators."
      ],
      "metadata": {
        "id": "Km3eV86uUjZx"
      }
    },
    {
      "cell_type": "code",
      "source": [
        "x = int(input(\"Enter a number: \"))\n",
        "\n",
        "if x > 0 and x < 10:\n",
        "    print(\"The number is between 1 and 9.\")\n",
        "\n",
        "if x < 0 or x > 100:\n",
        "    print(\"The number is either negative or greater than 100.\")\n",
        "\n",
        "if not (x == 5):\n",
        "    print(\"The number is NOT equal to 5.\")"
      ],
      "metadata": {
        "colab": {
          "base_uri": "https://localhost:8080/"
        },
        "id": "Fy8abqFZUobY",
        "outputId": "fd91eed2-8af5-4061-e97e-d4ca260409f2"
      },
      "execution_count": 22,
      "outputs": [
        {
          "output_type": "stream",
          "name": "stdout",
          "text": [
            "Enter a number: 8\n",
            "The number is between 1 and 9.\n",
            "The number is NOT equal to 5.\n"
          ]
        }
      ]
    },
    {
      "cell_type": "markdown",
      "source": [
        "9. Write a Python program to convert user input from string to integer, float, and boolean types."
      ],
      "metadata": {
        "id": "kISbmlojVODZ"
      }
    },
    {
      "cell_type": "code",
      "source": [
        "user_input = input(\"Enter a value: \")\n",
        "\n",
        "try:\n",
        "    int_value = int(user_input)\n",
        "except ValueError:\n",
        "    int_value = \"Cannot convert to integer\"\n",
        "\n",
        "try:\n",
        "    float_value = float(user_input)\n",
        "except ValueError:\n",
        "    float_value = \"Cannot convert to float\"\n",
        "\n",
        "bool_value = bool(user_input)\n",
        "\n",
        "print(\"\\nConversions:\")\n",
        "print(\"String value:\", user_input)\n",
        "print(\"Integer value:\", int_value)\n",
        "print(\"Float value:\", float_value)\n",
        "print(\"Boolean value:\", bool_value)"
      ],
      "metadata": {
        "colab": {
          "base_uri": "https://localhost:8080/"
        },
        "id": "ed7gTxZNVTKc",
        "outputId": "5d6db054-138d-4681-b57c-4e9242686f61"
      },
      "execution_count": 23,
      "outputs": [
        {
          "output_type": "stream",
          "name": "stdout",
          "text": [
            "Enter a value: 25\n",
            "\n",
            "Conversions:\n",
            "String value: 25\n",
            "Integer value: 25\n",
            "Float value: 25.0\n",
            "Boolean value: True\n"
          ]
        }
      ]
    },
    {
      "cell_type": "markdown",
      "source": [
        "10.  Write code to demonstrate type casting with list elements."
      ],
      "metadata": {
        "id": "WMDnxC4hVq6b"
      }
    },
    {
      "cell_type": "code",
      "source": [
        "str_list = [\"10\", \"20\", \"30\", \"40\"]\n",
        "\n",
        "print(\"Original list (strings):\", str_list)\n",
        "\n",
        "int_list = [int(x) for x in str_list]\n",
        "print(\"List as integers:\", int_list)\n",
        "\n",
        "float_list = [float(x) for x in str_list]\n",
        "print(\"List as floats:\", float_list)\n",
        "\n",
        "bool_list = [bool(int(x)) for x in str_list]  # First convert to int, then bool\n",
        "print(\"List as booleans:\", bool_list)"
      ],
      "metadata": {
        "colab": {
          "base_uri": "https://localhost:8080/"
        },
        "id": "NgSEIZB5V8Ox",
        "outputId": "605dcdb5-0722-4350-d1dd-c3ae30240870"
      },
      "execution_count": 26,
      "outputs": [
        {
          "output_type": "stream",
          "name": "stdout",
          "text": [
            "Original list (strings): ['10', '20', '30', '40']\n",
            "List as integers: [10, 20, 30, 40]\n",
            "List as floats: [10.0, 20.0, 30.0, 40.0]\n",
            "List as booleans: [True, True, True, True]\n"
          ]
        }
      ]
    },
    {
      "cell_type": "markdown",
      "source": [
        "11. Write a program that checks if a number is positive, negative, or zero."
      ],
      "metadata": {
        "id": "YvlA97DnV7xC"
      }
    },
    {
      "cell_type": "code",
      "source": [
        "num = float(input(\"Enter a number: \"))\n",
        "\n",
        "if num > 0:\n",
        "    print(\"The number is Positive.\")\n",
        "elif num < 0:\n",
        "    print(\"The number is Negative.\")\n",
        "else:\n",
        "    print(\"The number is Zero.\")"
      ],
      "metadata": {
        "colab": {
          "base_uri": "https://localhost:8080/"
        },
        "id": "5xQcDl9bWWm2",
        "outputId": "f52f4d48-8249-4649-a394-cf5b501c3fbc"
      },
      "execution_count": 27,
      "outputs": [
        {
          "output_type": "stream",
          "name": "stdout",
          "text": [
            "Enter a number: 15\n",
            "The number is Positive.\n"
          ]
        }
      ]
    },
    {
      "cell_type": "markdown",
      "source": [
        "12. Write a for loop to print numbers from 1 to 10."
      ],
      "metadata": {
        "id": "kYr_uELhWkB8"
      }
    },
    {
      "cell_type": "code",
      "source": [
        "for num in range(1, 11):\n",
        "    print(num)"
      ],
      "metadata": {
        "colab": {
          "base_uri": "https://localhost:8080/"
        },
        "id": "WbxF3oidWwp0",
        "outputId": "1387c130-7a67-4434-f703-8d1b9512903b"
      },
      "execution_count": 28,
      "outputs": [
        {
          "output_type": "stream",
          "name": "stdout",
          "text": [
            "1\n",
            "2\n",
            "3\n",
            "4\n",
            "5\n",
            "6\n",
            "7\n",
            "8\n",
            "9\n",
            "10\n"
          ]
        }
      ]
    },
    {
      "cell_type": "markdown",
      "source": [
        "13. Write a Python program to find the sum of all even numbers between 1 and 50."
      ],
      "metadata": {
        "id": "SU6PuNw0Wzcz"
      }
    },
    {
      "cell_type": "code",
      "source": [
        "total = 0\n",
        "\n",
        "for num in range(1, 51):\n",
        "    if num % 2 == 0:\n",
        "        total += num\n",
        "\n",
        "print(\"The sum of all even numbers between 1 and 50 is:\", total)"
      ],
      "metadata": {
        "colab": {
          "base_uri": "https://localhost:8080/"
        },
        "id": "jJfaHH6mW3i1",
        "outputId": "2b3e5b93-3503-4541-f23c-76192df6f97c"
      },
      "execution_count": 31,
      "outputs": [
        {
          "output_type": "stream",
          "name": "stdout",
          "text": [
            "The sum of all even numbers between 1 and 50 is: 650\n"
          ]
        }
      ]
    },
    {
      "cell_type": "markdown",
      "source": [
        "14. Write a program to reverse a string using a while loop."
      ],
      "metadata": {
        "id": "bP4nqwKvXVaD"
      }
    },
    {
      "cell_type": "code",
      "source": [
        "text = input(\"Enter a string: \")\n",
        "\n",
        "reversed_text = \"\"\n",
        "index = len(text) - 1\n",
        "\n",
        "while index >= 0:\n",
        "    reversed_text += text[index]\n",
        "    index -= 1\n",
        "\n",
        "print(\"Reversed string:\", reversed_text)\n"
      ],
      "metadata": {
        "colab": {
          "base_uri": "https://localhost:8080/"
        },
        "id": "dki5UiumXddx",
        "outputId": "2e178a58-5e56-403d-b8d5-01debefcfc86"
      },
      "execution_count": 32,
      "outputs": [
        {
          "output_type": "stream",
          "name": "stdout",
          "text": [
            "Enter a string: Python\n",
            "Reversed string: nohtyP\n"
          ]
        }
      ]
    },
    {
      "cell_type": "markdown",
      "source": [
        "15.  Write a Python program to calculate the factorial of a number provided by the user using a while loop."
      ],
      "metadata": {
        "id": "XMwbjuKpXq2w"
      }
    },
    {
      "cell_type": "code",
      "source": [
        "num = int(input(\"Enter a number: \"))\n",
        "\n",
        "if num < 0:\n",
        "    print(\"Factorial is not defined for negative numbers.\")\n",
        "else:\n",
        "    factorial = 1\n",
        "    i = 1\n",
        "\n",
        "    while i <= num:\n",
        "        factorial *= i\n",
        "        i += 1\n",
        "\n",
        "    print(f\"The factorial of {num} is: {factorial}\")"
      ],
      "metadata": {
        "colab": {
          "base_uri": "https://localhost:8080/"
        },
        "id": "drkXeyo-Xyys",
        "outputId": "2bae529e-2c77-4070-9c45-7008a53347c4"
      },
      "execution_count": 33,
      "outputs": [
        {
          "output_type": "stream",
          "name": "stdout",
          "text": [
            "Enter a number: 5\n",
            "The factorial of 5 is: 120\n"
          ]
        }
      ]
    }
  ]
}